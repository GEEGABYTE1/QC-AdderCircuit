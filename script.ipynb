{
 "cells": [
  {
   "cell_type": "code",
   "execution_count": 92,
   "metadata": {},
   "outputs": [],
   "source": [
    "from qiskit import QuantumCircuit\n",
    "from qiskit.providers.aer import AerSimulator"
   ]
  },
  {
   "cell_type": "code",
   "execution_count": 94,
   "metadata": {},
   "outputs": [],
   "source": [
    "qc = QuantumCircuit(3, 2)\n",
    "sim = AerSimulator()\n",
    "string1 = '0 0'\n",
    "string2 = '0 1'\n",
    "string3 = '1 0'\n",
    "string4 = '1 1'"
   ]
  },
  {
   "cell_type": "code",
   "execution_count": null,
   "metadata": {},
   "outputs": [],
   "source": [
    "string_1 = string1.split(' ')\n",
    "qc.x(int(string_1[0]))\n",
    "qc.x(int(string_1[-1]))\n",
    "qc.cx(0, 1)\n",
    "qc.cx(1, 0)\n",
    "qc.ccx(0, 1, 2)\n",
    "qc.draw()"
   ]
  },
  {
   "cell_type": "code",
   "execution_count": null,
   "metadata": {},
   "outputs": [],
   "source": [
    "qc.measure(2, 0)\n",
    "qc.measure(1, 0)\n",
    "qc.measure(0, 1)\n",
    "job = sim.run(qc)\n",
    "result = job.result()\n",
    "result.get_counts()\n",
    "\n"
   ]
  },
  {
   "cell_type": "code",
   "execution_count": null,
   "metadata": {},
   "outputs": [],
   "source": [
    "string_2 = string2.split(\" \")\n",
    "qc.x(int(string_2[0]))\n",
    "qc.x(int(string_2[-1]))\n",
    "qc.cx(1,0 )\n",
    "qc.cx(0, 1)\n",
    "qc.cx(1, 2)\n",
    "qc.ccx(0, 1, 2)\n",
    "qc.draw()\n"
   ]
  },
  {
   "cell_type": "code",
   "execution_count": null,
   "metadata": {},
   "outputs": [],
   "source": [
    "qc.measure(1, 0)\n",
    "qc.measure(2, 1)\n",
    "qc.measure(2, 0)\n",
    "qc.draw()\n",
    "job_2 = sim.run(qc)\n",
    "result = job_2.result()\n",
    "result.get_counts()\n",
    "\n"
   ]
  },
  {
   "cell_type": "code",
   "execution_count": 96,
   "metadata": {},
   "outputs": [
    {
     "data": {
      "text/html": [
       "<pre style=\"word-wrap: normal;white-space: pre;background: #fff0;line-height: 1.1;font-family: &quot;Courier New&quot;,Courier,monospace\">                                                                 \n",
       "q_0: ────────────■─────────■────■──────────────■─────────■────■──\n",
       "     ┌───┐┌───┐┌─┴─┐       │    │  ┌───┐┌───┐┌─┴─┐       │    │  \n",
       "q_1: ┤ X ├┤ X ├┤ X ├──■────┼────■──┤ X ├┤ X ├┤ X ├──■────┼────■──\n",
       "     └───┘└───┘└───┘┌─┴─┐┌─┴─┐┌─┴─┐└───┘└───┘└───┘┌─┴─┐┌─┴─┐┌─┴─┐\n",
       "q_2: ───────────────┤ X ├┤ X ├┤ X ├───────────────┤ X ├┤ X ├┤ X ├\n",
       "                    └───┘└───┘└───┘               └───┘└───┘└───┘\n",
       "c: 2/════════════════════════════════════════════════════════════\n",
       "                                                                 </pre>"
      ],
      "text/plain": [
       "                                                                 \n",
       "q_0: ────────────■─────────■────■──────────────■─────────■────■──\n",
       "     ┌───┐┌───┐┌─┴─┐       │    │  ┌───┐┌───┐┌─┴─┐       │    │  \n",
       "q_1: ┤ X ├┤ X ├┤ X ├──■────┼────■──┤ X ├┤ X ├┤ X ├──■────┼────■──\n",
       "     └───┘└───┘└───┘┌─┴─┐┌─┴─┐┌─┴─┐└───┘└───┘└───┘┌─┴─┐┌─┴─┐┌─┴─┐\n",
       "q_2: ───────────────┤ X ├┤ X ├┤ X ├───────────────┤ X ├┤ X ├┤ X ├\n",
       "                    └───┘└───┘└───┘               └───┘└───┘└───┘\n",
       "c: 2/════════════════════════════════════════════════════════════\n",
       "                                                                 "
      ]
     },
     "execution_count": 96,
     "metadata": {},
     "output_type": "execute_result"
    }
   ],
   "source": [
    "string_4 = string4.split(' ')\n",
    "qc.x(int(string_4[0]))\n",
    "qc.x(int(string_4[-1]))\n",
    "qc.cx(0, 1)\n",
    "qc.cx(1, 2)\n",
    "qc.cx(0, 2)\n",
    "qc.ccx(0, 1, 2)\n",
    "\n"
   ]
  },
  {
   "cell_type": "code",
   "execution_count": 100,
   "metadata": {},
   "outputs": [
    {
     "data": {
      "text/plain": [
       "{'00': 1024}"
      ]
     },
     "execution_count": 100,
     "metadata": {},
     "output_type": "execute_result"
    }
   ],
   "source": [
    "qc.measure(1, 0)\n",
    "qc.measure(2, 1)\n",
    "qc.measure(2, 0)\n",
    "job = sim.run(qc)\n",
    "result = job.result()\n",
    "result.get_counts()\n",
    "\n"
   ]
  },
  {
   "cell_type": "code",
   "execution_count": null,
   "metadata": {},
   "outputs": [],
   "source": []
  }
 ],
 "metadata": {
  "interpreter": {
   "hash": "aee8b7b246df8f9039afb4144a1f6fd8d2ca17a180786b69acc140d282b71a49"
  },
  "kernelspec": {
   "display_name": "Python 3.9.10 64-bit",
   "language": "python",
   "name": "python3"
  },
  "language_info": {
   "codemirror_mode": {
    "name": "ipython",
    "version": 3
   },
   "file_extension": ".py",
   "mimetype": "text/x-python",
   "name": "python",
   "nbconvert_exporter": "python",
   "pygments_lexer": "ipython3",
   "version": "3.9.10"
  },
  "orig_nbformat": 4
 },
 "nbformat": 4,
 "nbformat_minor": 2
}
